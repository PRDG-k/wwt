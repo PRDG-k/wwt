{
 "cells": [
  {
   "cell_type": "code",
   "execution_count": 17,
   "metadata": {},
   "outputs": [
    {
     "data": {
      "text/plain": [
       "True"
      ]
     },
     "execution_count": 17,
     "metadata": {},
     "output_type": "execute_result"
    }
   ],
   "source": [
    "import cv2\n",
    "import numpy as np\n",
    "\n",
    "# 1. 이미지를 읽어옵니다.\n",
    "image = cv2.imread('field_image.png')\n",
    "\n",
    "# 이미지의 크기를 얻습니다. shape는 (height, width, channels)로 구성됩니다.\n",
    "height, width, channels = image.shape\n",
    "\n",
    "# 전체 픽셀 수를 계산합니다.\n",
    "total_pixels = height * width\n",
    "\n",
    "# 2. 이미지를 그레이스케일로 변환합니다.\n",
    "gray_image = cv2.cvtColor(image, cv2.COLOR_BGR2GRAY)\n",
    "\n",
    "# 3. 이진화(binarization)를 수행하여 잡초가 있는 부분과 없는 부분을 구분합니다.\n",
    "# 임계값은 127로 설정하여, 명암값이 70보다 큰 부분을 잡초가 있는 부분으로 간주합니다.\n",
    "_, binary_image = cv2.threshold(gray_image, 70, 255, cv2.THRESH_BINARY)\n",
    "\n",
    "# 4. 잡초가 있는 부분의 픽셀값을 추출(RGB)합니다.\n",
    "# 잡초가 있는 부분의 픽셀 값은 binary_image가 255인 부분의 픽셀 값입니다.\n",
    "# weed_pixels = image[binary_image == 255]\n",
    "\n",
    "# 4. 잡초가 있는 픽셀의 좌표를 추출합니다.\n",
    "weed_coordinates = np.column_stack(np.where(binary_image == 255))\n",
    "\n",
    "# 5. 추출한 좌표를 텍스트 파일로 저장합니다.\n",
    "np.savetxt('weed_coordinates.txt', weed_coordinates, fmt='%d', delimiter=',', header='row,col', comments='')\n",
    "\n",
    "# 추출한 잡초 부분의 픽셀값을 출력합니다.\n",
    "# print(weed_pixels)\n",
    "\n",
    "# 필요한 경우, 추출한 잡초 부분을 별도의 이미지로 저장할 수 있습니다.\n",
    "weed_image = np.zeros_like(image)\n",
    "weed_image[binary_image == 255] = image[binary_image == 255]\n",
    "\n",
    "cv2.imwrite('gray_image.jpg', gray_image)\n",
    "cv2.imwrite('weed_image.jpg', weed_image)\n",
    "\n"
   ]
  },
  {
   "cell_type": "code",
   "execution_count": 18,
   "metadata": {},
   "outputs": [
    {
     "name": "stdout",
     "output_type": "stream",
     "text": [
      "Image dimensions: 612 x 511\n",
      "Total number of pixels: 312732\n",
      "length of weed coordinates: 10944\n"
     ]
    }
   ],
   "source": [
    "# 이미지 크기와 전체 픽셀 수를 출력합니다.\n",
    "print(f\"Image dimensions: {width} x {height}\")\n",
    "print(f\"Total number of pixels: {total_pixels}\")\n",
    "print(f\"length of weed coordinates: {len(weed_coordinates)}\")"
   ]
  },
  {
   "cell_type": "code",
   "execution_count": 28,
   "metadata": {},
   "outputs": [],
   "source": [
    "import math\n",
    "\n",
    "# 방사각\n",
    "drone_angle = math.radians(60)\n",
    "\n",
    "# 드론 높이, 단위cm\n",
    "drone_height = range(100, 201, 10)\n",
    "\n",
    "#반지름\n",
    "# r = [h * math.tan(drone_angle / 2) for h in drone_height]\n",
    "\n",
    "# 방사범위\n",
    "radiation_range = [math.pi * (h * math.tan(drone_angle / 2))**2 for h in drone_height]"
   ]
  },
  {
   "cell_type": "markdown",
   "metadata": {},
   "source": [
    "#### 좌표 적용 방안(나중에 추가 예정)\n",
    "\n",
    "현재 좌표값은 픽셀단위인데, 이걸 cm단위의 범위 데이터로 바꾸자. \n",
    "\n",
    "ex1. 픽셀좌표[0] = [12, 69] = [[12~36], [69~77]] = 새좌표[0]\n",
    "\n",
    "ex2. 좌표를 분리하기 x[0] = [12~36], y[0] = [69~77]"
   ]
  },
  {
   "cell_type": "markdown",
   "metadata": {},
   "source": [
    "#### 분사범위 적용 방안\n",
    "radiation_range = 드론이 커버할 수 있는 범위, 이걸 제약에 추가"
   ]
  },
  {
   "cell_type": "code",
   "execution_count": null,
   "metadata": {},
   "outputs": [],
   "source": []
  }
 ],
 "metadata": {
  "kernelspec": {
   "display_name": "Python 3",
   "language": "python",
   "name": "python3"
  },
  "language_info": {
   "codemirror_mode": {
    "name": "ipython",
    "version": 3
   },
   "file_extension": ".py",
   "mimetype": "text/x-python",
   "name": "python",
   "nbconvert_exporter": "python",
   "pygments_lexer": "ipython3",
   "version": "3.9.6"
  }
 },
 "nbformat": 4,
 "nbformat_minor": 2
}
