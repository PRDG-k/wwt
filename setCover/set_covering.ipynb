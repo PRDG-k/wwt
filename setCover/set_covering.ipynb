{
 "cells": [
  {
   "cell_type": "code",
   "execution_count": 66,
   "metadata": {},
   "outputs": [
    {
     "name": "stderr",
     "output_type": "stream",
     "text": [
      "/var/folders/dj/c81zc2b12d54dz30fc1stjv80000gn/T/ipykernel_2630/3793718652.py:36: FutureWarning: Calling float on a single element Series is deprecated and will raise a TypeError in the future. Use float(ser.iloc[0]) instead\n",
      "  v = float(item)\n"
     ]
    }
   ],
   "source": [
    "import pandas as pd\n",
    "import numpy as np\n",
    "\n",
    "def calculate_distances(df):\n",
    "    # 노드의 수를 구합니다.\n",
    "    num_nodes = len(df)\n",
    "    \n",
    "    # 거리를 저장할 데이터프레임을 생성합니다.\n",
    "    distances = pd.DataFrame(np.zeros((num_nodes, num_nodes)), columns=df.index, index=df.index)\n",
    "    \n",
    "    # 모든 노드 쌍에 대해 거리를 계산합니다.\n",
    "    for i in range(num_nodes):\n",
    "        for j in range(i+1, num_nodes):\n",
    "            # 두 노드 간의 유클리드 거리를 계산합니다.\n",
    "            distance = np.sqrt((df.iloc[i]['X'] - df.iloc[j]['X'])**2 + \n",
    "                               (df.iloc[i]['Y'] - df.iloc[j]['Y'])**2 + \n",
    "                               (df.iloc[i]['Z'] - df.iloc[j]['Z'])**2)\n",
    "            distances.iloc[i, j] = distance\n",
    "            distances.iloc[j, i] = distance\n",
    "    \n",
    "    return distances\n",
    "\n",
    "# 데이터프레임\n",
    "file_name = \"selected_sites.txt\"\n",
    "nodes = pd.read_csv(file_name, sep=',')\n",
    "\n",
    "coordinates = pd.read_csv(\"xyz.csv\",  index_col=0)\n",
    "\n",
    "_z = []\n",
    "for i in nodes.itertuples():\n",
    "    cond = (coordinates['x'] == i.X) & (coordinates['y'] == i.Y)\n",
    "    item = coordinates.loc[cond, \"z\"]\n",
    "    if len(item) == 0:\n",
    "        v = 14\n",
    "    else:\n",
    "        v = float(item)\n",
    "    _z.append(v)\n",
    "\n",
    "nodes[\"Z\"] = _z\n",
    "\n",
    "# 각 노드 간의 거리 계산\n",
    "distances = calculate_distances(nodes)\n",
    "\n"
   ]
  },
  {
   "cell_type": "code",
   "execution_count": 82,
   "metadata": {},
   "outputs": [],
   "source": [
    "import pandas as pd\n",
    "import gurobipy as gp\n",
    "from gurobipy import GRB\n",
    "import random\n",
    "import matplotlib.pyplot as plt\n",
    "import math\n",
    "\n",
    "# random 모듈 시드 설정\n",
    "random.seed(42)\n",
    "\n",
    "# 모델 생성\n",
    "model = gp.Model(\"pesticide_application\")\n",
    "\n",
    "# 파일 읽기\n",
    "file_path = 'weed_coordinates.csv'\n",
    "data = pd.read_csv(file_path, sep=',', index_col=0)"
   ]
  },
  {
   "cell_type": "code",
   "execution_count": 65,
   "metadata": {},
   "outputs": [],
   "source": [
    "\n",
    "con1 = data['row'] <= 100\n",
    "con2 = data['col'] <= 100\n",
    "\n",
    "current_df = data[con1 & con2]"
   ]
  },
  {
   "cell_type": "code",
   "execution_count": 63,
   "metadata": {},
   "outputs": [],
   "source": [
    "distances.to_csv(\"dist.csv\")"
   ]
  }
 ],
 "metadata": {
  "kernelspec": {
   "display_name": "Python 3",
   "language": "python",
   "name": "python3"
  },
  "language_info": {
   "codemirror_mode": {
    "name": "ipython",
    "version": 3
   },
   "file_extension": ".py",
   "mimetype": "text/x-python",
   "name": "python",
   "nbconvert_exporter": "python",
   "pygments_lexer": "ipython3",
   "version": "3.9.6"
  }
 },
 "nbformat": 4,
 "nbformat_minor": 2
}
